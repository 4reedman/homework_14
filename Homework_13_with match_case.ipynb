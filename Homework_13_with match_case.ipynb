{
 "cells": [
  {
   "cell_type": "markdown",
   "metadata": {},
   "source": [
    "1. Create add method to add two countries together. This method should create another country object with the name of the two countries combined and the population of the two countries added together.\n",
    "bosnia = Country('Bosnia', 10_000_000)\n",
    "herzegovina = Country('Herzegovina', 5_000_000)\n",
    "bosnia_herzegovina = bosnia.add(herzegovina)\n",
    "bosnia_herzegovina.population -> 15_000_000\n",
    "bosnia_herzegovina.name -> 'Bosnia Herzegovina'"
   ]
  },
  {
   "cell_type": "code",
   "execution_count": 7,
   "metadata": {},
   "outputs": [
    {
     "name": "stdout",
     "output_type": "stream",
     "text": [
      "Bosnia_Herzegovina has 15000000 population\n"
     ]
    }
   ],
   "source": [
    "class Country:\n",
    "    def __init__(self, name, population):\n",
    "        self.name = name\n",
    "        self.population = population\n",
    "    \n",
    "    def add(self, other):\n",
    "       return Country(self.name + \"_\" + other.name, self.population + other.population)\n",
    "        \n",
    "    def __str__(self):\n",
    "        return f'{self.name} has {self.population} population'\n",
    "\n",
    "bosnia = Country('Bosnia', 10_000_000)\n",
    "herzegovina = Country('Herzegovina', 5_000_000)\n",
    "bosnia_herzegovina = bosnia.add(herzegovina)\n",
    "print(bosnia_herzegovina)\n",
    "\n"
   ]
  },
  {
   "cell_type": "markdown",
   "metadata": {},
   "source": [
    "2. Implement the previous method with a magic method\n",
    "\n",
    "bosnia = Country('Bosnia', 10_000_000)\n",
    "\n",
    "herzegovina = Country('Herzegovina', 5_000_000)\n",
    "\n",
    "bosnia_herzegovina = bosnia + herzegovina\n",
    "\n",
    "bosnia_herzegovina.population -> 15_000_000\n"
   ]
  },
  {
   "cell_type": "markdown",
   "metadata": {},
   "source": [
    "bosnia_herzegovina.name -> 'Bosnia Herzegovina'"
   ]
  },
  {
   "cell_type": "code",
   "execution_count": 6,
   "metadata": {},
   "outputs": [
    {
     "ename": "TypeError",
     "evalue": "unsupported operand type(s) for +: 'Country' and 'Country'",
     "output_type": "error",
     "traceback": [
      "\u001b[0;31m---------------------------------------------------------------------------\u001b[0m",
      "\u001b[0;31mTypeError\u001b[0m                                 Traceback (most recent call last)",
      "Cell \u001b[0;32mIn[6], line 14\u001b[0m\n\u001b[1;32m     12\u001b[0m bosnia_2 \u001b[39m=\u001b[39m Country_2(\u001b[39m'\u001b[39m\u001b[39mBosnia\u001b[39m\u001b[39m'\u001b[39m, \u001b[39m10_000_000\u001b[39m)\n\u001b[1;32m     13\u001b[0m herzegovina_2 \u001b[39m=\u001b[39m Country_2(\u001b[39m'\u001b[39m\u001b[39mHerzegovina\u001b[39m\u001b[39m'\u001b[39m, \u001b[39m5_000_000\u001b[39m)\n\u001b[0;32m---> 14\u001b[0m bosnia_herzegovina_2 \u001b[39m=\u001b[39m bosnia \u001b[39m+\u001b[39;49m herzegovina\n\u001b[1;32m     15\u001b[0m \u001b[39mprint\u001b[39m(bosnia_herzegovina_2)\n",
      "\u001b[0;31mTypeError\u001b[0m: unsupported operand type(s) for +: 'Country' and 'Country'"
     ]
    }
   ],
   "source": [
    "class Country_2:\n",
    "    def __init__(self, name, population):\n",
    "        self.name = name\n",
    "        self.population = population\n",
    "    \n",
    "    def __add__(self, other):\n",
    "       return Country_2(self.name + \"_\" + other.name, self.population + other.population)\n",
    "        \n",
    "    def __str__(self):\n",
    "        return f'{self.name} has {self.population} population'\n",
    "\n",
    "bosnia_2 = Country_2('Bosnia', 10_000_000)\n",
    "herzegovina_2 = Country_2('Herzegovina', 5_000_000)\n",
    "bosnia_herzegovina_2 = bosnia + herzegovina\n",
    "print(bosnia_herzegovina_2)"
   ]
  },
  {
   "cell_type": "markdown",
   "metadata": {},
   "source": [
    "3. Create a Car class with the following attributes: brand, model, year, and speed. \n",
    "The Car class should have the following methods: accelerate, brake and display_speed. \n",
    "The accelerate method should increase the speed by 5, \n",
    "and the brake method should decrease the speed by 5. \n",
    "Remember that the speed cannot be negative"
   ]
  },
  {
   "cell_type": "code",
   "execution_count": 18,
   "metadata": {},
   "outputs": [
    {
     "name": "stdout",
     "output_type": "stream",
     "text": [
      "0\n",
      "5\n",
      "10\n",
      "Current speed is 10\n"
     ]
    }
   ],
   "source": [
    "class Car:\n",
    "    def __init__(self, brand: str, model: str, year: int, speed: int) -> None:\n",
    "        self.brand = brand\n",
    "        self.model = model\n",
    "        self.year = year\n",
    "        self.speed = speed\n",
    "\n",
    "    def accelerate(self):\n",
    "        self.speed += 5\n",
    "        return self.speed\n",
    "\n",
    "    def brake(self):\n",
    "        if self.speed >= 5:\n",
    "            self.speed += 0\n",
    "            return self.speed\n",
    "        else:\n",
    "            self.speed = 0\n",
    "            return self.speed\n",
    "        \n",
    "    def display_speed(self):\n",
    "        return f\"Current speed is {self.speed}\"\n",
    "\n",
    "    def __str__(self) -> str:\n",
    "        return f\"{self.brand}, model {self.model} has current speed {self.speed}\"\n",
    "\n",
    "\n",
    "mecredes_gls_350 = Car(\"Mercedes\", \"GLS350\", 2018, 4)\n",
    "print(mecredes_gls_350.brake())\n",
    "print(mecredes_gls_350.accelerate())\n",
    "print(mecredes_gls_350.accelerate())\n",
    "print(mecredes_gls_350.display_speed())"
   ]
  },
  {
   "cell_type": "markdown",
   "metadata": {},
   "source": [
    "4. (Optional) Create a Robot class with the following attributes: orientation (left, right, up, down), position_x, position_y. The Robot class should have the following methods: move, turn, and display_position. The move method should take a number of steps and move the robot in the direction it is currently facing. The turn method should take a direction (left or right) and turn the robot in that direction. The display_position method should print the current position of the robot."
   ]
  },
  {
   "cell_type": "code",
   "execution_count": 1,
   "metadata": {},
   "outputs": [
    {
     "name": "stdout",
     "output_type": "stream",
     "text": [
      "Current WALL_E orientaion down, and position: x = 1, y = -9\n",
      "Current WALL_E orientaion right, and position: x = 1, y = -9\n",
      "Current WALL_E orientaion up, and position: x = 1, y = -9\n",
      "Current WALL_E orientaion up, and position: x = 1, y = -4\n",
      "Current WALL_E orientaion left, and position: x = 1, y = -4\n",
      "Current WALL_E orientaion left, and position: x = -6, y = -4\n"
     ]
    }
   ],
   "source": [
    "class Robot:\n",
    "    def __init__(self,name: str, orientaion: str, position_x: int, position_y: int) -> None:\n",
    "        self.name = name\n",
    "        self.orientaion = orientaion\n",
    "        self.position_x = position_x\n",
    "        self.position_y = position_y\n",
    "    \n",
    "    \n",
    "    # def move(self, steps):\n",
    "    #     if self.orientaion == 'down':\n",
    "    #         self.position_y -= steps\n",
    "    #         return self.position_y\n",
    "    #     elif self.orientaion == 'up':\n",
    "    #         self.position_y += steps\n",
    "    #         return self.position_y\n",
    "    #     elif self.orientaion == 'left':\n",
    "    #         self.position_x -= steps\n",
    "    #         return self.position_x\n",
    "    #     elif self.orientaion == 'right':\n",
    "    #         self.position_x += steps\n",
    "    #         return self.position_x\n",
    "    \n",
    "    def move(self, steps):\n",
    "        match self.orientaion:\n",
    "            case 'down':\n",
    "                self.position_y -= steps\n",
    "                return self.position_y\n",
    "            case 'up':\n",
    "                self.position_y += steps\n",
    "                return self.position_y\n",
    "            case 'left':\n",
    "                self.position_x -= steps\n",
    "                return self.position_x\n",
    "            case 'right':\n",
    "                self.position_x += steps\n",
    "                return self.position_x\n",
    "\n",
    "   \n",
    "        \n",
    "\n",
    "    def turn(self, direction): # в цьому методі орієнтацію вираховуємо з перспективи користувача, а не робота\n",
    "        if (self.orientaion == 'down' or self.orientaion == 'up') and direction == 'left':\n",
    "            self.orientaion = 'left'\n",
    "            return self.orientaion\n",
    "        elif (self.orientaion == 'down' or self.orientaion == 'up') and direction == 'right':\n",
    "            self.orientaion = 'right'\n",
    "            return self.orientaion\n",
    "        elif (self.orientaion == 'left' and direction == 'right') or (self.orientaion == 'right' and direction == 'left'):\n",
    "            self.orientaion = 'up'\n",
    "            return self.orientaion\n",
    "        elif (self.orientaion == 'left' and direction == 'left') or (self.orientaion == 'right' and direction == 'right'):\n",
    "            self.orientaion = 'down'\n",
    "            return self.orientaion\n",
    "\n",
    "\n",
    "    def display_position(self):\n",
    "        return print(f'Current {self.name} orientaion {self.orientaion}, and position: x = {self.position_x}, y = {self.position_y}')\n",
    "    \n",
    "\n",
    "wall_e = Robot('WALL_E', \"down\", 1, 1)\n",
    "wall_e.move(10)\n",
    "wall_e.display_position()\n",
    "wall_e.turn('right')\n",
    "wall_e.display_position()\n",
    "wall_e.turn('left')\n",
    "wall_e.display_position()\n",
    "wall_e.move(5)\n",
    "wall_e.display_position()\n",
    "wall_e.turn('left')\n",
    "wall_e.display_position()\n",
    "wall_e.move(7)\n",
    "wall_e.display_position()"
   ]
  }
 ],
 "metadata": {
  "kernelspec": {
   "display_name": "base",
   "language": "python",
   "name": "python3"
  },
  "language_info": {
   "codemirror_mode": {
    "name": "ipython",
    "version": 3
   },
   "file_extension": ".py",
   "mimetype": "text/x-python",
   "name": "python",
   "nbconvert_exporter": "python",
   "pygments_lexer": "ipython3",
   "version": "3.10.12"
  },
  "orig_nbformat": 4
 },
 "nbformat": 4,
 "nbformat_minor": 2
}
